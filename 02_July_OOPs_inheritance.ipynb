{
 "cells": [
  {
   "cell_type": "markdown",
   "id": "be9a7927",
   "metadata": {},
   "source": [
    "**Q1.** Inheritance is a fundamental concept in object-oriented programming (OOP) that allows one class (called the subclass or derived class) to inherit properties and behaviors from another class (called the superclass or base class). It enables the creation of a new class by reusing and extending the characteristics of an existing class, promoting code reusability and hierarchical organization of code.\n",
    "\n",
    "In Python, like in many other object-oriented programming languages, inheritance is used to achieve several key objectives:\n",
    "\n",
    "1. **Code Reusability:** Inheritance allows you to reuse code from an existing class, reducing redundancy and promoting the Don't Repeat Yourself (DRY) principle. You can create new classes that inherit attributes and methods from a base class, which saves time and effort in writing and maintaining code.\n",
    "\n",
    "2. **Extensibility:** You can extend the functionality of a base class by adding new attributes and methods or by modifying existing ones in the derived class. This promotes the open-closed principle, allowing you to add new features without modifying existing code.\n",
    "\n",
    "3. **Polymorphism:** In Python, inheritance is closely related to polymorphism, a core OOP concept. Polymorphism allows objects of different classes to be treated as objects of a common base class. This enables you to write more generic and flexible code that can work with different types of objects.\n",
    "\n",
    "4. **Hierarchical Organization:** Inheritance allows you to create a hierarchy of classes, with each derived class specializing in or customizing the behavior of the base class. This hierarchical organization makes it easier to manage and understand complex software systems."
   ]
  },
  {
   "cell_type": "code",
   "execution_count": 1,
   "id": "86adc0d9",
   "metadata": {},
   "outputs": [],
   "source": [
    "class Animal:\n",
    "    def __init__(self, name):\n",
    "        self.name = name\n",
    "\n",
    "    def speak(self):\n",
    "        pass\n",
    "\n",
    "class Dog(Animal):\n",
    "    def speak(self):\n",
    "        return f\"{self.name} says Woof!\"\n",
    "\n",
    "class Cat(Animal):\n",
    "    def speak(self):\n",
    "        return f\"{self.name} says Meow!\""
   ]
  },
  {
   "cell_type": "markdown",
   "id": "0c20f5f8",
   "metadata": {},
   "source": [
    "In this example, `Animal` is the base class, and `Dog` and `Cat` are derived classes. Both `Dog` and `Cat` inherit the `name` attribute from the `Animal` class. They also override the `speak` method to provide their own implementation of how an animal of their type speaks.\n",
    "\n",
    "When you create instances of `Dog` and `Cat`, you can call their `speak` methods, and they will behave differently, demonstrating polymorphism:\n"
   ]
  },
  {
   "cell_type": "code",
   "execution_count": null,
   "id": "91e5308c",
   "metadata": {},
   "outputs": [],
   "source": [
    "dog = Dog(\"Buddy\")\n",
    "cat = Cat(\"Whiskers\")\n",
    "\n",
    "print(dog.speak())  \n",
    "print(cat.speak())  \n"
   ]
  },
  {
   "cell_type": "markdown",
   "id": "106b8686",
   "metadata": {},
   "source": [
    "In summary, inheritance in Python and OOP, in general, is a powerful mechanism that enables code reuse, extensibility, polymorphism, and a structured approach to organizing and modeling real-world entities in software systems. It plays a crucial role in building maintainable and scalable applications."
   ]
  },
  {
   "cell_type": "markdown",
   "id": "1ae0148d",
   "metadata": {},
   "source": [
    "**Q2.** In Python, as in many object-oriented programming languages, you can implement inheritance in two primary ways: single inheritance and multiple inheritance. These two approaches have distinct characteristics, advantages, and potential drawbacks.\n",
    "\n",
    "**Single Inheritance:**\n",
    "- **Definition:** Single inheritance refers to a scenario where a class inherits from only one superclass (base class).\n",
    "- **Advantages:**\n",
    "  1. **Simplicity:** Single inheritance is straightforward and easy to understand because a class inherits from a single source of attributes and behaviors. This simplicity can make code easier to maintain and debug.\n",
    "  2. **Reduced Complexity:** There are no issues related to naming conflicts or ambiguity when accessing attributes or methods because there's only one parent class.\n",
    "  3. **Encapsulation:** Single inheritance promotes encapsulation, as the derived class focuses on a single source of functionality, leading to cleaner and more modular code.\n",
    "\n",
    "**Multiple Inheritance:**\n",
    "- **Definition:** Multiple inheritance occurs when a class inherits from more than one superclass (base class).\n",
    "- **Advantages:**\n",
    "  1. **Reusability:** Multiple inheritance allows a class to inherit functionality from multiple sources, promoting code reuse to a greater extent.\n",
    "  2. **Flexibility:** It enables you to combine features from different classes to create complex objects that represent real-world entities more accurately.\n",
    "  3. **Customization:** With multiple inheritance, you can create highly specialized classes by combining various traits from different parent classes.\n",
    "  4. **Polymorphism:** Multiple inheritance can lead to more flexible and polymorphic code because a class can inherit and use attributes and methods from different sources.\n",
    "\n",
    "**Differences:**\n",
    "1. **Ambiguity:** One significant challenge in multiple inheritance is the potential for attribute or method name conflicts when two or more base classes define attributes or methods with the same name. Python resolves this through a method resolution order (MRO) algorithm, which determines the order in which base classes are searched when accessing attributes or methods. The `super()` function can also be used to call methods from specific base classes.\n",
    "\n",
    "2. **Complexity:** Multiple inheritance can make code more complex and harder to understand, especially when dealing with a large number of base classes. Careful design and documentation are essential to manage this complexity effectively.\n",
    "\n",
    "3. **Diamond Problem:** The diamond problem occurs in multiple inheritance when a class inherits from two or more classes that have a common ancestor. It can lead to ambiguity and unexpected behavior. Python resolves this by following a consistent MRO, but developers should still be cautious when designing class hierarchies.\n",
    "\n",
    "**Example:**\n",
    "\n",
    "Here's a simple example illustrating single and multiple inheritance in Python:\n"
   ]
  },
  {
   "cell_type": "code",
   "execution_count": 1,
   "id": "d167b0d5",
   "metadata": {},
   "outputs": [
    {
     "name": "stdout",
     "output_type": "stream",
     "text": [
      "Woof!\n",
      "Meow!\n",
      "Woof!\n"
     ]
    }
   ],
   "source": [
    "class Animal:\n",
    "    def speak(self):\n",
    "        pass\n",
    "\n",
    "class Dog(Animal):\n",
    "    def speak(self):\n",
    "        return \"Woof!\"\n",
    "\n",
    "class Cat(Animal):\n",
    "    def speak(self):\n",
    "        return \"Meow!\"\n",
    "\n",
    "class Pet(Dog, Cat):  # Multiple inheritance\n",
    "    pass\n",
    "\n",
    "dog = Dog()\n",
    "cat = Cat()\n",
    "pet = Pet()\n",
    "\n",
    "print(dog.speak())  # Output: \"Woof!\"\n",
    "print(cat.speak())  # Output: \"Meow!\"\n",
    "print(pet.speak())  # Output: \"Woof!\" (inherits from Dog because it's the first base class in the declaration)\n",
    "\n",
    "\n",
    "#In this example, `Dog` and `Cat` represent single inheritance,\n",
    "#while `Pet` demonstrates multiple inheritance by inheriting from both `Dog` and `Cat`.\n",
    "# The MRO determines that `Pet` inherits the `speak` method from `Dog`."
   ]
  },
  {
   "cell_type": "markdown",
   "id": "bb7ef9ca",
   "metadata": {},
   "source": [
    "In object-oriented programming (OOP), \"base class\" and \"derived class\" are terms used to describe the relationships between classes in the context of inheritance, which is one of the fundamental principles of OOP. These terms help define the hierarchy and structure of classes in an inheritance-based system:\n",
    "\n",
    "1. **Base Class (Superclass or Parent Class):**\n",
    "   \n",
    "   - A base class is a class that serves as the foundation or starting point for creating other classes. It is also sometimes referred to as a \"superclass\" or \"parent class.\"\n",
    "   - A base class defines common attributes and methods that are shared by one or more derived classes.\n",
    "   - Base classes are typically designed to be more general and abstract, providing a blueprint for derived classes to inherit from and specialize.\n",
    "   - Instances of base classes can exist on their own, but they are often used as templates for creating objects of derived classes.\n",
    "\n",
    "2. **Derived Class (Subclass or Child Class):**\n",
    "   \n",
    "   - A derived class is a class that inherits attributes and methods from a base class. It is also known as a \"subclass\" or \"child class.\"\n",
    "   - A derived class extends or specializes the functionality of the base class by adding new attributes, methods, or by modifying the inherited ones.\n",
    "   - Derived classes can have additional attributes and methods that are specific to their own unique behavior.\n",
    "   - Instances of derived classes inherit the properties and behaviors of the base class, and they can also have their own unique characteristics.\n",
    "   \n",
    "The primary purpose of using base and derived classes is to promote code reusability and organization in software design. By defining a base class with common features and allowing multiple derived classes to inherit from it, you can:\n",
    "\n",
    "- Avoid code duplication by centralizing shared attributes and methods in the base class.\n",
    "- Create a structured and hierarchical class hierarchy, making it easier to understand and manage your code.\n",
    "- Customize and specialize classes for specific purposes by adding or modifying attributes and methods in derived classes.\n",
    "\n",
    "Here's a simple Python example to illustrate the concept of base and derived classes:\n",
    "\n"
   ]
  },
  {
   "cell_type": "code",
   "execution_count": 2,
   "id": "f14f0f8a",
   "metadata": {},
   "outputs": [],
   "source": [
    "\n",
    "class Vehicle:  # Base class\n",
    "    def __init__(self, brand, model):\n",
    "        self.brand = brand\n",
    "        self.model = model\n",
    "\n",
    "    def display_info(self):\n",
    "        return f\"Brand: {self.brand}, Model: {self.model}\"\n",
    "\n",
    "class Car(Vehicle):  # Derived class\n",
    "    def __init__(self, brand, model, fuel_type):\n",
    "        super().__init__(brand, model)\n",
    "        self.fuel_type = fuel_type\n",
    "\n",
    "    def display_info(self):\n",
    "        vehicle_info = super().display_info()\n",
    "        return f\"{vehicle_info}, Fuel Type: {self.fuel_type}\"\n"
   ]
  },
  {
   "cell_type": "markdown",
   "id": "4ca0e196",
   "metadata": {},
   "source": [
    "In this example, `Vehicle` is the base class, and `Car` is the derived class. `Car` inherits the attributes and methods from `Vehicle` but also adds its own attribute, \"fuel_type.\" Instances of `Car` can access both the inherited attributes and methods from `Vehicle` and the ones specific to the `Car` class."
   ]
  },
  {
   "cell_type": "markdown",
   "id": "9247bee1",
   "metadata": {},
   "source": [
    "**Q4.** In Python, access modifiers are used to control the visibility and accessibility of class members (attributes and methods) from outside the class. There are three main access modifiers: \"public,\" \"protected,\" and \"private.\" These modifiers have different levels of visibility and play a role in encapsulation and inheritance.\n",
    "\n",
    "1. **Public (No Modifier):**\n",
    "   - In Python, class members (attributes and methods) are public by default, which means they can be accessed from anywhere, both within and outside the class.\n",
    "   - Public members are not prefixed with an underscore or double underscore.\n",
    "   - They are accessible from derived classes, as well as from instances of the class and external code.\n",
    "\n",
    "2. **Protected (Single Underscore Prefix):**\n",
    "   - In Python, members with a single underscore prefix (e.g., `_attribute` or `_method()`) are considered protected.\n",
    "   - Protected members are not intended to be accessed directly from outside the class, but they are not strictly enforced as private.\n",
    "   - By convention, protected members are considered internal to the class or its subclasses and should not be accessed from external code.\n",
    "   - Protected members are accessible from derived classes, but it's considered a best practice not to access them directly.\n",
    "\n",
    "3. **Private (Double Underscore Prefix):**\n",
    "   - Members with a double underscore prefix (e.g., `__attribute` or `__method()`) are considered private in Python.\n",
    "   - Private members are not intended to be accessed directly from outside the class, and they are enforced more strictly than protected members.\n",
    "   - Private members have name mangling applied to them, which changes their names to include the class name as a prefix to avoid naming conflicts.\n",
    "   - Private members are generally not accessible from derived classes, although they can still be accessed using name mangling if necessary (but it's discouraged).\n",
    "\n",
    "In the context of inheritance, protected members serve as a way to indicate to derived classes that certain attributes or methods are intended for internal use within the class hierarchy. Derived classes can access these protected members if needed but are encouraged not to do so directly.\n",
    "\n",
    "Here's an example to illustrate the use of protected members in inheritance:\n",
    "\n",
    "\n"
   ]
  },
  {
   "cell_type": "code",
   "execution_count": 3,
   "id": "140ca605",
   "metadata": {},
   "outputs": [
    {
     "name": "stdout",
     "output_type": "stream",
     "text": [
      "42\n",
      "This is a protected method.\n",
      "42\n"
     ]
    }
   ],
   "source": [
    "class Base:\n",
    "    def __init__(self):\n",
    "        self._protected_attribute = 42\n",
    "\n",
    "    def _protected_method(self):\n",
    "        return \"This is a protected method.\"\n",
    "\n",
    "class Derived(Base):\n",
    "    def access_protected_member(self):\n",
    "        return self._protected_attribute\n",
    "\n",
    "# Create instances of Base and Derived classes\n",
    "base_instance = Base()\n",
    "derived_instance = Derived()\n",
    "\n",
    "# Access protected members\n",
    "print(base_instance._protected_attribute)  # Accessible from within the same class\n",
    "print(base_instance._protected_method())   # Accessible from within the same class\n",
    "\n",
    "print(derived_instance.access_protected_member())  # Accessible from derived class\n",
    "\n"
   ]
  },
  {
   "cell_type": "markdown",
   "id": "4c50ae47",
   "metadata": {},
   "source": [
    "In this example, `_protected_attribute` and `_protected_method` are protected members in the `Base` class. They can be accessed from within the class itself and from derived classes. However, it's important to note that this access is a convention and not enforced by Python's access control system, so it relies on good programming practices and developer discipline to maintain encapsulation and prevent accidental misuse."
   ]
  },
  {
   "cell_type": "markdown",
   "id": "081e0f10",
   "metadata": {},
   "source": [
    "Here's an example to illustrate the use of public members in inheritance:\n"
   ]
  },
  {
   "cell_type": "code",
   "execution_count": 4,
   "id": "daef0fe8",
   "metadata": {},
   "outputs": [
    {
     "name": "stdout",
     "output_type": "stream",
     "text": [
      "I am a public attribute\n",
      "I am a public method\n"
     ]
    }
   ],
   "source": [
    "class MyClass:\n",
    "    def __init__(self):\n",
    "        self.public_attribute = \"I am a public attribute\"\n",
    "\n",
    "    def public_method(self):\n",
    "        return \"I am a public method\"\n",
    "\n",
    "\n",
    "my_instance = MyClass()\n",
    "\n",
    "# Access public members from inside and outside the class\n",
    "print(my_instance.public_attribute)  # Accessing a public attribute\n",
    "print(my_instance.public_method())   # Calling a public method\n"
   ]
  },
  {
   "cell_type": "markdown",
   "id": "9650799d",
   "metadata": {},
   "source": [
    "In this example, both `public_attribute` and `public_method` are public members, and they can be accessed from both inside the class and from an instance of the class.\n",
    "\n"
   ]
  },
  {
   "cell_type": "markdown",
   "id": "9a0ba77f",
   "metadata": {},
   "source": [
    "Here's an example to illustrate the use of private members in inheritance:\n"
   ]
  },
  {
   "cell_type": "code",
   "execution_count": 5,
   "id": "b04539ee",
   "metadata": {},
   "outputs": [
    {
     "ename": "AttributeError",
     "evalue": "'MyClass' object has no attribute '__private_attribute'",
     "output_type": "error",
     "traceback": [
      "\u001b[1;31m---------------------------------------------------------------------------\u001b[0m",
      "\u001b[1;31mAttributeError\u001b[0m                            Traceback (most recent call last)",
      "Cell \u001b[1;32mIn[5], line 13\u001b[0m\n\u001b[0;32m      9\u001b[0m my_instance \u001b[38;5;241m=\u001b[39m MyClass()\n\u001b[0;32m     11\u001b[0m \u001b[38;5;66;03m# Attempt to access private members from outside the class\u001b[39;00m\n\u001b[0;32m     12\u001b[0m \u001b[38;5;66;03m# This will result in an AttributeError\u001b[39;00m\n\u001b[1;32m---> 13\u001b[0m \u001b[38;5;28mprint\u001b[39m(my_instance\u001b[38;5;241m.\u001b[39m__private_attribute)\n\u001b[0;32m     14\u001b[0m \u001b[38;5;28mprint\u001b[39m(my_instance\u001b[38;5;241m.\u001b[39m__private_method())\n\u001b[0;32m     16\u001b[0m \u001b[38;5;66;03m# Access private members using name mangling (discouraged)\u001b[39;00m\n",
      "\u001b[1;31mAttributeError\u001b[0m: 'MyClass' object has no attribute '__private_attribute'"
     ]
    }
   ],
   "source": [
    "class MyClass:\n",
    "    def __init__(self):\n",
    "        self.__private_attribute = \"I am a private attribute\"\n",
    "\n",
    "    def __private_method(self):\n",
    "        return \"I am a private method\"\n",
    "\n",
    "\n",
    "my_instance = MyClass()\n",
    "\n",
    "# Attempt to access private members from outside the class\n",
    "# This will result in an AttributeError\n",
    "print(my_instance.__private_attribute)\n",
    "print(my_instance.__private_method())\n",
    "\n"
   ]
  },
  {
   "cell_type": "code",
   "execution_count": 6,
   "id": "1043b94e",
   "metadata": {},
   "outputs": [
    {
     "name": "stdout",
     "output_type": "stream",
     "text": [
      "I am a private attribute\n",
      "I am a private method\n"
     ]
    }
   ],
   "source": [
    "# Access private members using name mangling (discouraged)\n",
    "print(my_instance._MyClass__private_attribute)  # Accessing a private attribute using name mangling\n",
    "print(my_instance._MyClass__private_method())    # Calling a private method using name mangling"
   ]
  },
  {
   "cell_type": "markdown",
   "id": "89c7cfbe",
   "metadata": {},
   "source": [
    "**Q5.** The `super` keyword in inheritance is used to call a method or access an attribute from a superclass (base class) within a subclass (derived class). It allows you to invoke the implementation of the method or attribute in the superclass, even if the subclass has overridden that method or attribute. The primary purpose of `super` is to facilitate code reuse and extend the behavior defined in the base class.\n",
    "\n",
    "Here's an example to illustrate the purpose of the `super` keyword in Python:\n"
   ]
  },
  {
   "cell_type": "code",
   "execution_count": 7,
   "id": "402ed284",
   "metadata": {},
   "outputs": [
    {
     "name": "stdout",
     "output_type": "stream",
     "text": [
      "Buddy says Woof!\n",
      "Whiskers says Meow!\n"
     ]
    }
   ],
   "source": [
    "class Animal:\n",
    "    def __init__(self, name):\n",
    "        self.name = name\n",
    "\n",
    "    def speak(self):\n",
    "        pass\n",
    "\n",
    "class Dog(Animal):\n",
    "    def __init__(self, name, breed):\n",
    "        super().__init__(name)\n",
    "        self.breed = breed\n",
    "\n",
    "    def speak(self):\n",
    "        return f\"{self.name} says Woof!\"\n",
    "\n",
    "class Cat(Animal):\n",
    "    def __init__(self, name, color):\n",
    "        super().__init__(name)\n",
    "        self.color = color\n",
    "\n",
    "    def speak(self):\n",
    "        return f\"{self.name} says Meow!\"\n",
    "\n",
    "# Create instances of Dog and Cat\n",
    "dog = Dog(\"Buddy\", \"Golden Retriever\")\n",
    "cat = Cat(\"Whiskers\", \"Gray\")\n",
    "\n",
    "# Access overridden methods using super\n",
    "print(dog.speak())  # Output: \"Buddy says Woof!\"\n",
    "print(cat.speak())  # Output: \"Whiskers says Meow!\"\n"
   ]
  },
  {
   "cell_type": "markdown",
   "id": "d91e99b3",
   "metadata": {},
   "source": [
    "In this example:\n",
    "\n",
    "1. We have a base class called `Animal` with an `__init__` method and a `speak` method. The `speak` method is defined as `pass` in the base class, meaning it has no implementation.\n",
    "\n",
    "2. We have two derived classes, `Dog` and `Cat`, which inherit from `Animal`. Each of these derived classes has its own `__init__` method and overrides the `speak` method to provide custom behavior.\n",
    "\n",
    "3. Inside the `__init__` methods of `Dog` and `Cat`, we use `super().__init__(name)` to call the `__init__` method of the base class (`Animal`) to initialize the `name` attribute.\n",
    "\n",
    "4. In the overridden `speak` methods of `Dog` and `Cat`, we use `super().speak()` to call the `speak` method from the base class. This allows us to include the name of the animal in the output message while reusing the base class's method structure.\n",
    "\n",
    "Using `super` in this way ensures that we can extend the behavior defined in the base class while maintaining code reuse and consistency. It's particularly useful when you want to add specific functionality in derived classes while still utilizing the common features provided by the base class."
   ]
  },
  {
   "cell_type": "markdown",
   "id": "73220c6f",
   "metadata": {},
   "source": [
    "**Q6.** The code is given below :"
   ]
  },
  {
   "cell_type": "code",
   "execution_count": 8,
   "id": "b736be33",
   "metadata": {},
   "outputs": [
    {
     "name": "stdout",
     "output_type": "stream",
     "text": [
      "Vehicle Information:\n",
      "The Toyota Camry is from the year 2022\n",
      "\n",
      "Car Information:\n",
      "The Honda Civic is from the year 2023\n",
      "(Gasoline Fuel)\n"
     ]
    }
   ],
   "source": [
    "class Vehicle:\n",
    "    def __init__(self, make, model, year):\n",
    "        self.make = make\n",
    "        self.model = model\n",
    "        self.year = year\n",
    "\n",
    "    def display_info(self):\n",
    "        print(f\"The {self.make} {self.model} is from the year {self.year}\")\n",
    "\n",
    "class Car(Vehicle):\n",
    "    def __init__(self, make, model, year, fuel_type):\n",
    "        super().__init__(make, model, year)\n",
    "        self.fuel_type = fuel_type\n",
    "\n",
    "    def display_info(self):\n",
    "        vehicle_info = super().display_info()\n",
    "        print(f\"({self.fuel_type} Fuel)\")\n",
    "\n",
    "\n",
    "vehicle = Vehicle(\"Toyota\", \"Camry\", 2022)\n",
    "car = Car(\"Honda\", \"Civic\", 2023, \"Gasoline\")\n",
    "\n",
    "print(\"Vehicle Information:\")\n",
    "vehicle.display_info()  \n",
    "print(\"\\nCar Information:\")\n",
    "car.display_info() "
   ]
  },
  {
   "cell_type": "markdown",
   "id": "400c11e5",
   "metadata": {},
   "source": [
    "**Q7.** The code is given below :"
   ]
  },
  {
   "cell_type": "code",
   "execution_count": 10,
   "id": "728733c5",
   "metadata": {},
   "outputs": [
    {
     "name": "stdout",
     "output_type": "stream",
     "text": [
      "Employee Information:\n",
      "Name: John Doe, Salary: 60000.00\n",
      "\n",
      "Manager Information:\n",
      "Name: Alice Smith, Salary: 80000.00, Department: Human Resources\n",
      "\n",
      "Developer Information:\n",
      "Name: Bob Johnson, Salary: 70000.00, Programming Language: Python\n"
     ]
    }
   ],
   "source": [
    "class Employee:\n",
    "    def __init__(self, name, salary):\n",
    "        self.name = name\n",
    "        self.salary = salary\n",
    "\n",
    "    def display_info(self):\n",
    "        return f\"Name: {self.name}, Salary: {self.salary:.2f}\"\n",
    "\n",
    "class Manager(Employee):\n",
    "    def __init__(self, name, salary, department):\n",
    "        super().__init__(name, salary)\n",
    "        self.department = department\n",
    "\n",
    "    def display_info(self):\n",
    "        employee_info = super().display_info()\n",
    "        return f\"{employee_info}, Department: {self.department}\"\n",
    "\n",
    "class Developer(Employee):\n",
    "    def __init__(self, name, salary, programming_language):\n",
    "        super().__init__(name, salary)\n",
    "        self.programming_language = programming_language\n",
    "\n",
    "    def display_info(self):\n",
    "        employee_info = super().display_info()\n",
    "        return f\"{employee_info}, Programming Language: {self.programming_language}\"\n",
    "\n",
    "\n",
    "employee = Employee(\"John Doe\", 60000.0)\n",
    "manager = Manager(\"Alice Smith\", 80000.0, \"Human Resources\")\n",
    "developer = Developer(\"Bob Johnson\", 70000.0, \"Python\")\n",
    "\n",
    "\n",
    "print(\"Employee Information:\")\n",
    "print(employee.display_info())  \n",
    "print(\"\\nManager Information:\")\n",
    "print(manager.display_info())   \n",
    "print(\"\\nDeveloper Information:\")\n",
    "print(developer.display_info()) "
   ]
  },
  {
   "cell_type": "markdown",
   "id": "4de5b09f",
   "metadata": {},
   "source": [
    "**Q8.** The code is given below :"
   ]
  },
  {
   "cell_type": "code",
   "execution_count": 11,
   "id": "563c64fc",
   "metadata": {},
   "outputs": [
    {
     "name": "stdout",
     "output_type": "stream",
     "text": [
      "Shape Information:\n",
      "Colour: Red, Border Width: 2\n",
      "\n",
      "Rectangle Information:\n",
      "Colour: Blue, Border Width: 1\n",
      "None, Type: Rectangle, Length: 5, Width: 4\n",
      "\n",
      "Circle Information:\n",
      "Colour: Green, Border Width: 1\n",
      "None, Type: Circle, Radius: 3\n"
     ]
    }
   ],
   "source": [
    "class Shape:\n",
    "    def __init__(self,colour,border_width):\n",
    "        self.colour=colour\n",
    "        self.border_width=border_width\n",
    "    def display_info(self):\n",
    "        print(f\"Colour: {self.colour}, Border Width: {self.border_width}\")\n",
    "\n",
    "class Rectangle(Shape):\n",
    "    def __init__(self,colour,border_width,length,width):\n",
    "        super().__init__(colour,border_width)\n",
    "        self.length=length\n",
    "        self.width=width\n",
    "    def display_info(self):\n",
    "        shape_info = super().display_info()\n",
    "        return f\"{shape_info}, Type: Rectangle, Length: {self.length}, Width: {self.width}\"\n",
    "\n",
    "class Circle(Shape):\n",
    "    def __init__(self,colour,border_width,radius):\n",
    "        super().__init__(colour,border_width)\n",
    "        self.radius=radius\n",
    "    def display_info(self):\n",
    "        shape_info = super().display_info()\n",
    "        print(f\"{shape_info}, Type: Circle, Radius: {self.radius}\")\n",
    "        \n",
    "shape = Shape(\"Red\", 2)\n",
    "rectangle = Rectangle(\"Blue\", 1, 5, 4)\n",
    "circle = Circle(\"Green\", 1, 3)\n",
    "\n",
    "print(\"Shape Information:\")\n",
    "shape.display_info()\n",
    "print(\"\\nRectangle Information:\")\n",
    "print(rectangle.display_info())\n",
    "print(\"\\nCircle Information:\")\n",
    "circle.display_info() "
   ]
  },
  {
   "cell_type": "markdown",
   "id": "2c7a6268",
   "metadata": {},
   "source": [
    "**Q9.** The code is given below :"
   ]
  },
  {
   "cell_type": "code",
   "execution_count": 12,
   "id": "25322189",
   "metadata": {},
   "outputs": [
    {
     "name": "stdout",
     "output_type": "stream",
     "text": [
      "Device Information:\n",
      "Brand: Apple, Model: MacBook\n",
      "\n",
      "Phone Information:\n",
      "Brand: Samsung, Model: Galaxy S21, Type: Phone, Screen Size: 6.2 inches\n",
      "\n",
      "Tablet Information:\n",
      "Brand: Apple, Model: iPad Pro, Type: Tablet, Battery Capacity: 9720 mAh mAh\n"
     ]
    }
   ],
   "source": [
    "class Device:\n",
    "    def __init__(self, brand, model):\n",
    "        self.brand = brand\n",
    "        self.model = model\n",
    "\n",
    "    def display_info(self):\n",
    "        return f\"Brand: {self.brand}, Model: {self.model}\"\n",
    "\n",
    "class Phone(Device):\n",
    "    def __init__(self, brand, model, screen_size):\n",
    "        super().__init__(brand, model)\n",
    "        self.screen_size = screen_size\n",
    "\n",
    "    def display_info(self):\n",
    "        device_info = super().display_info()\n",
    "        return f\"{device_info}, Type: Phone, Screen Size: {self.screen_size}\"\n",
    "\n",
    "class Tablet(Device):\n",
    "    def __init__(self, brand, model, battery_capacity):\n",
    "        super().__init__(brand, model)\n",
    "        self.battery_capacity = battery_capacity\n",
    "\n",
    "    def display_info(self):\n",
    "        device_info = super().display_info()\n",
    "        return f\"{device_info}, Type: Tablet, Battery Capacity: {self.battery_capacity} mAh\"\n",
    "\n",
    "\n",
    "device = Device(\"Apple\", \"MacBook\")\n",
    "phone = Phone(\"Samsung\", \"Galaxy S21\", \"6.2 inches\")\n",
    "tablet = Tablet(\"Apple\", \"iPad Pro\", \"9720 mAh\")\n",
    "\n",
    "\n",
    "print(\"Device Information:\")\n",
    "print(device.display_info())\n",
    "print(\"\\nPhone Information:\")\n",
    "print(phone.display_info())\n",
    "print(\"\\nTablet Information:\")\n",
    "print(tablet.display_info())\n"
   ]
  },
  {
   "cell_type": "markdown",
   "id": "6c6b1d39",
   "metadata": {},
   "source": [
    "**Q10.** The code is given below :"
   ]
  },
  {
   "cell_type": "code",
   "execution_count": 13,
   "id": "96db40aa",
   "metadata": {},
   "outputs": [
    {
     "name": "stdout",
     "output_type": "stream",
     "text": [
      "Bank Account Information:\n",
      "account number is 123456 and the balance is 1000.0\n",
      "\n",
      "Savings Account Information:\n",
      "account number is 789012 and the balance is 2000.0\n",
      "None\n",
      "\n",
      "Checking Account Information:\n",
      "account number is 345678 and the balance is 1500.0\n",
      "None\n",
      "\n",
      "Interest Earned:\n",
      "Interest earned: 70.00\n",
      "Updated Savings Account Balance:\n",
      "account number is 789012 and the balance is 2070.0\n",
      "None\n",
      "\n",
      "Fees Deducted:\n",
      "Fees deducted: 6.00\n",
      "Updated Checking Account Balance:\n",
      "account number is 345678 and the balance is 1494.0\n",
      "None\n"
     ]
    }
   ],
   "source": [
    "class BankAccount:\n",
    "    def __init__(self,account_number,balance):\n",
    "        self.account_number = account_number\n",
    "        self.balance = balance\n",
    "    def display_info(self):\n",
    "        print(f\"account number is {self.account_number} and the balance is {self.balance}\")\n",
    "        \n",
    "class SavingsAccount(BankAccount):\n",
    "    def __init__(self,account_number,balance,interest_percentage):\n",
    "        super().__init__(account_number, balance)\n",
    "        self.interest_percentage= interest_percentage\n",
    "    def calculate_interest(self):\n",
    "        interest = self.balance * (self.interest_percentage/ 100)\n",
    "        self.balance += interest\n",
    "        return interest\n",
    "    \n",
    "class CheckingAccount(BankAccount):\n",
    "    def __init__(self, account_number, balance, fee_per_transaction):\n",
    "        super().__init__(account_number, balance)\n",
    "        self.fee_per_transaction = fee_per_transaction\n",
    "\n",
    "    def deduct_fees(self, num_transactions):\n",
    "        fees = self.fee_per_transaction * num_transactions\n",
    "        if self.balance >= fees:\n",
    "            self.balance -= fees\n",
    "            return fees\n",
    "        else:\n",
    "            return 0\n",
    "        \n",
    "account = BankAccount(\"123456\", 1000.0)\n",
    "savings_account = SavingsAccount(\"789012\", 2000.0, 3.5)\n",
    "checking_account = CheckingAccount(\"345678\", 1500.0, 2.0)\n",
    "        \n",
    "# Display information about the accounts        \n",
    "print(\"Bank Account Information:\")\n",
    "account.display_info()\n",
    "print(\"\\nSavings Account Information:\")\n",
    "print(savings_account.display_info())\n",
    "print(\"\\nChecking Account Information:\")\n",
    "print(checking_account.display_info())\n",
    "\n",
    "# Calculate interest for the savings account\n",
    "interest = savings_account.calculate_interest()\n",
    "print(\"\\nInterest Earned:\")\n",
    "print(f\"Interest earned: {interest:.2f}\")\n",
    "print(\"Updated Savings Account Balance:\")\n",
    "print(savings_account.display_info())\n",
    "\n",
    "# Deduct fees from the checking account\n",
    "fees_deducted = checking_account.deduct_fees(3)\n",
    "print(\"\\nFees Deducted:\")\n",
    "print(f\"Fees deducted: {fees_deducted:.2f}\")\n",
    "print(\"Updated Checking Account Balance:\")\n",
    "print(checking_account.display_info()) "
   ]
  },
  {
   "cell_type": "code",
   "execution_count": null,
   "id": "e88a4ba3",
   "metadata": {},
   "outputs": [],
   "source": []
  }
 ],
 "metadata": {
  "kernelspec": {
   "display_name": "Python 3 (ipykernel)",
   "language": "python",
   "name": "python3"
  },
  "language_info": {
   "codemirror_mode": {
    "name": "ipython",
    "version": 3
   },
   "file_extension": ".py",
   "mimetype": "text/x-python",
   "name": "python",
   "nbconvert_exporter": "python",
   "pygments_lexer": "ipython3",
   "version": "3.11.3"
  }
 },
 "nbformat": 4,
 "nbformat_minor": 5
}
